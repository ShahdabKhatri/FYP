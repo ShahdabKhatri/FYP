{
 "cells": [
  {
   "cell_type": "code",
   "execution_count": 9,
   "metadata": {},
   "outputs": [],
   "source": [
    "from keras.preprocessing.image import ImageDataGenerator,img_to_array,load_img\n",
    "import numpy as np\n",
    "import os, glob, cv2 \n",
    "import splitfolders\n",
    "import shutil\n",
    "from distutils.dir_util import copy_tree"
   ]
  },
  {
   "cell_type": "markdown",
   "metadata": {},
   "source": [
    "#### renaming files in siede n/n/"
   ]
  },
  {
   "cell_type": "code",
   "execution_count": 23,
   "metadata": {},
   "outputs": [],
   "source": [
    "for m in range(18,19):\n",
    "    os.chdir(r'{}\\{}'.format(m,m))\n",
    "    for j,k in enumerate(glob.glob('*')):\n",
    "        os.rename(k,'{}.jpeg'.format(j+1))\n",
    "    os.chdir('../../')                          ## renaming file inside folder n/n/"
   ]
  },
  {
   "cell_type": "markdown",
   "metadata": {},
   "source": [
    "####  creating folder   'n each'"
   ]
  },
  {
   "cell_type": "code",
   "execution_count": 24,
   "metadata": {},
   "outputs": [],
   "source": [
    "for j in range(18,19):\n",
    "    \n",
    "    os.chdir('{}'.format(j))\n",
    "    os.mkdir('{} each'.format(j))    \n",
    "    os.chdir('{} each'.format(j))\n",
    "    for i in range(1, len(glob.glob('../{}/*'.format(j)))+1):\n",
    "        os.mkdir(str(i))\n",
    "    os.chdir('../../')"
   ]
  },
  {
   "cell_type": "markdown",
   "metadata": {},
   "source": [
    "####  Croping each character"
   ]
  },
  {
   "cell_type": "code",
   "execution_count": 25,
   "metadata": {},
   "outputs": [],
   "source": [
    "for ff in range(18,19):\n",
    "    for f in range(1,len(glob.glob(r'{}/{}/*'.format(ff,ff)))+1):\n",
    "        img=cv2.imread(r'{}\\{}\\{}.jpeg'.format(ff,ff,f),0)\n",
    "        blur = cv2.bilateralFilter(img,9,75,75)\n",
    "        ret2,th2 = cv2.threshold(blur,127,255,cv2.THRESH_BINARY_INV+cv2.THRESH_OTSU)\n",
    "        kernel = np.ones((30,30), np.uint8)  # note this is a horizontal kernel\n",
    "        d_im = cv2.dilate(th2, kernel, iterations=1)\n",
    "        contours,hierarchy = cv2.findContours(d_im,cv2.RETR_LIST,cv2.CHAIN_APPROX_SIMPLE)\n",
    "        for i,cnt in enumerate(contours):\n",
    "            x,y,w,h = cv2.boundingRect(cnt)\n",
    "            ci = th2[y:y+h, x:x+w]\n",
    "            cv2.imwrite(r'{}\\{} each\\{}\\{}.jpeg'.format(ff,ff,f,i+1),ci)"
   ]
  },
  {
   "cell_type": "code",
   "execution_count": 104,
   "metadata": {},
   "outputs": [],
   "source": [
    "#  MANUALLY PROCESSING"
   ]
  },
  {
   "cell_type": "markdown",
   "metadata": {},
   "source": [
    "#### Renaming file in folder named with 'each'"
   ]
  },
  {
   "cell_type": "code",
   "execution_count": 26,
   "metadata": {},
   "outputs": [],
   "source": [
    "for mf in range(18,19):\n",
    "    \n",
    "    for ff in range(1,len(glob.glob(r'{}/{} each/*'.format(mf,mf)))+1):\n",
    "\n",
    "        os.chdir(r'{}\\{} each\\{}'.format(mf,mf,ff))\n",
    "        for i,f in enumerate(glob.glob('*')):\n",
    "            os.rename(f,'{}__.jpeg'.format(i+1))\n",
    "        os.chdir(r'../../../')"
   ]
  },
  {
   "cell_type": "code",
   "execution_count": 27,
   "metadata": {},
   "outputs": [],
   "source": [
    "for mf in range(18,19):\n",
    "    \n",
    "    for ff in range(1,len(glob.glob(r'{}/{} each/*'.format(mf,mf)))+1):\n",
    "\n",
    "        os.chdir(r'{}\\{} each\\{}'.format(mf,mf,ff))\n",
    "        for i,f in enumerate(glob.glob('*')):\n",
    "            os.rename(f,'{}.jpeg'.format(i+1))\n",
    "        os.chdir(r'../../../')"
   ]
  },
  {
   "cell_type": "markdown",
   "metadata": {},
   "source": [
    "####  Creating folder each augmented\n",
    "os.chdir(r'C:\\Users\\shahdab\\Desktop\\data')"
   ]
  },
  {
   "cell_type": "code",
   "execution_count": 58,
   "metadata": {},
   "outputs": [],
   "source": [
    "os.chdir(r'C:\\Users\\shahdab\\Desktop\\data')\n",
    "start=18\n",
    "end=19\n",
    "for j in range(18,19):\n",
    "    \n",
    "    os.chdir('{}'.format(j))\n",
    "    os.mkdir('{} each augmented'.format(j))    \n",
    "    os.chdir('{} each augmented'.format(j))\n",
    "    for i in range(1, len(glob.glob('../{}/*'.format(j)))+1):\n",
    "        os.mkdir(str(i))\n",
    "    os.chdir('../../')"
   ]
  },
  {
   "cell_type": "markdown",
   "metadata": {},
   "source": [
    "####  now doing augmentation"
   ]
  },
  {
   "cell_type": "code",
   "execution_count": 59,
   "metadata": {},
   "outputs": [],
   "source": [
    "\n",
    "datagen = ImageDataGenerator(\n",
    "        rotation_range=0.2,\n",
    "        width_shift_range=0.1,\n",
    "        height_shift_range=0.1,\n",
    "        shear_range=0.2,\n",
    "        zoom_range=0.1,\n",
    "        horizontal_flip=False,\n",
    "        fill_mode='nearest')\n",
    "for kk in range(start,end):\n",
    "\n",
    "    for jj in range(1,len(glob.glob(r'{}\\{} each\\*'.format(kk,kk)))+1):\n",
    "\n",
    "        for ii in range(1,len(glob.glob('{}/{} each/{}/*'.format(kk,kk,jj)))+1):\n",
    "            img = load_img(r'{}\\{} each\\{}\\{}.jpeg'.format(kk,kk,jj,ii))  # this is a PIL image\n",
    "            x = img_to_array(img)  # this is a Numpy array with shape (3, 150, 150)\n",
    "            x = x.reshape((1,) + x.shape)  # this is a Numpy array with shape (1, 3, 150, 150)\n",
    "\n",
    "            # the .flow() command below generates batches of randomly transformed images\n",
    "            # and saves the results to the `preview/` directory\n",
    "            i = 0\n",
    "            for batch in datagen.flow(x, batch_size=1,\n",
    "                                      save_to_dir=r'{}\\{} each augmented\\{}'.format(kk,kk,jj),\n",
    "                                      save_prefix='',\n",
    "                                      save_format='jpeg'):\n",
    "                i += 1\n",
    "                if i > 9:\n",
    "                    break  # otherwise the generator would loop indefinitely"
   ]
  },
  {
   "cell_type": "code",
   "execution_count": 60,
   "metadata": {},
   "outputs": [],
   "source": [
    "os.chdir(r'C:\\Users\\shahdab\\Desktop\\data')"
   ]
  },
  {
   "cell_type": "markdown",
   "metadata": {},
   "source": [
    "#### Renaming each augmented files"
   ]
  },
  {
   "cell_type": "code",
   "execution_count": 61,
   "metadata": {},
   "outputs": [],
   "source": [
    "\n",
    "for kk in range(start,end):\n",
    "    \n",
    "    for jj in range(1,len(glob.glob(r'{}\\{} each augmented\\*'.format(kk,kk)))+1):\n",
    "        os.chdir(r'{}\\{} each augmented\\{}'.format(kk,kk,jj))\n",
    "\n",
    "        for i,f in enumerate(glob.glob('*')):\n",
    "            os.rename(f,'{}.jpeg'.format(i+1))\n",
    "        os.chdir(r'../../../')"
   ]
  },
  {
   "cell_type": "code",
   "execution_count": null,
   "metadata": {},
   "outputs": [],
   "source": []
  },
  {
   "cell_type": "markdown",
   "metadata": {},
   "source": [
    "####  Resizing all the augmented files"
   ]
  },
  {
   "cell_type": "code",
   "execution_count": 62,
   "metadata": {},
   "outputs": [],
   "source": [
    "for k in range(start,end):\n",
    "    for j in range(1,len(glob.glob(r'{}\\{} each augmented\\*'.format(k,k)))+1):\n",
    "        for i in range(1,len(glob.glob(r'{}\\{} each augmented\\{}\\*'.format(k,k,j)))+1):\n",
    "            os.chdir(r'{}\\{} each augmented\\{}'.format(k,k,j))\n",
    "            img=cv2.imread('{}.jpeg'.format(i),0)\n",
    "            #kernel=np.ones((5,5),dtype=int)\n",
    "            #img=cv2.erode(img,kernel=kernel)\n",
    "            img=cv2.resize(img,(32,32))\n",
    "            cv2.imwrite('{}.jpeg'.format(i),img)\n",
    "            os.chdir('../../../')"
   ]
  },
  {
   "cell_type": "code",
   "execution_count": 195,
   "metadata": {},
   "outputs": [
    {
     "ename": "FileNotFoundError",
     "evalue": "[WinError 2] The system cannot find the file specified: '13\\\\13 each augmented\\\\3'",
     "output_type": "error",
     "traceback": [
      "\u001b[1;31m---------------------------------------------------------------------------\u001b[0m",
      "\u001b[1;31mFileNotFoundError\u001b[0m                         Traceback (most recent call last)",
      "\u001b[1;32m<ipython-input-195-f2453cf96ef9>\u001b[0m in \u001b[0;36m<module>\u001b[1;34m()\u001b[0m\n\u001b[0;32m      2\u001b[0m \u001b[1;33m\u001b[0m\u001b[0m\n\u001b[0;32m      3\u001b[0m     \u001b[1;32mfor\u001b[0m \u001b[0mjj\u001b[0m \u001b[1;32min\u001b[0m \u001b[0mrange\u001b[0m\u001b[1;33m(\u001b[0m\u001b[1;36m1\u001b[0m\u001b[1;33m,\u001b[0m\u001b[0mlen\u001b[0m\u001b[1;33m(\u001b[0m\u001b[0mglob\u001b[0m\u001b[1;33m.\u001b[0m\u001b[0mglob\u001b[0m\u001b[1;33m(\u001b[0m\u001b[1;34mr'{}\\{} each augmented\\*'\u001b[0m\u001b[1;33m.\u001b[0m\u001b[0mformat\u001b[0m\u001b[1;33m(\u001b[0m\u001b[0mkk\u001b[0m\u001b[1;33m,\u001b[0m\u001b[0mkk\u001b[0m\u001b[1;33m)\u001b[0m\u001b[1;33m)\u001b[0m\u001b[1;33m)\u001b[0m\u001b[1;33m+\u001b[0m\u001b[1;36m1\u001b[0m\u001b[1;33m)\u001b[0m\u001b[1;33m:\u001b[0m\u001b[1;33m\u001b[0m\u001b[1;33m\u001b[0m\u001b[0m\n\u001b[1;32m----> 4\u001b[1;33m         \u001b[0mos\u001b[0m\u001b[1;33m.\u001b[0m\u001b[0mchdir\u001b[0m\u001b[1;33m(\u001b[0m\u001b[1;34mr'{}\\{} each augmented\\{}'\u001b[0m\u001b[1;33m.\u001b[0m\u001b[0mformat\u001b[0m\u001b[1;33m(\u001b[0m\u001b[0mkk\u001b[0m\u001b[1;33m,\u001b[0m\u001b[0mkk\u001b[0m\u001b[1;33m,\u001b[0m\u001b[0mjj\u001b[0m\u001b[1;33m)\u001b[0m\u001b[1;33m)\u001b[0m\u001b[1;33m\u001b[0m\u001b[1;33m\u001b[0m\u001b[0m\n\u001b[0m\u001b[0;32m      5\u001b[0m \u001b[1;33m\u001b[0m\u001b[0m\n\u001b[0;32m      6\u001b[0m         \u001b[1;32mfor\u001b[0m \u001b[0mi\u001b[0m\u001b[1;33m,\u001b[0m\u001b[0mf\u001b[0m \u001b[1;32min\u001b[0m \u001b[0menumerate\u001b[0m\u001b[1;33m(\u001b[0m\u001b[0mglob\u001b[0m\u001b[1;33m.\u001b[0m\u001b[0mglob\u001b[0m\u001b[1;33m(\u001b[0m\u001b[1;34m'*'\u001b[0m\u001b[1;33m)\u001b[0m\u001b[1;33m)\u001b[0m\u001b[1;33m:\u001b[0m\u001b[1;33m\u001b[0m\u001b[1;33m\u001b[0m\u001b[0m\n",
      "\u001b[1;31mFileNotFoundError\u001b[0m: [WinError 2] The system cannot find the file specified: '13\\\\13 each augmented\\\\3'"
     ]
    }
   ],
   "source": [
    "for kk in range(start,end):\n",
    "    \n",
    "    for jj in range(1,len(glob.glob(r'{}\\{} each augmented\\*'.format(kk,kk)))+1):\n",
    "        os.chdir(r'{}\\{} each augmented\\{}'.format(kk,kk,jj))\n",
    "\n",
    "        for i,f in enumerate(glob.glob('*')):\n",
    "            os.rename(f,'{}_{}_{}.jpeg'.format(i+1,jj,kk))\n",
    "        os.chdir(r'../../../')"
   ]
  },
  {
   "cell_type": "code",
   "execution_count": null,
   "metadata": {},
   "outputs": [],
   "source": []
  },
  {
   "cell_type": "code",
   "execution_count": 183,
   "metadata": {},
   "outputs": [
    {
     "data": {
      "text/plain": [
       "'C:\\\\Users\\\\shahdab\\\\Desktop\\\\data\\\\13\\\\13 each augmented\\\\1'"
      ]
     },
     "execution_count": 183,
     "metadata": {},
     "output_type": "execute_result"
    }
   ],
   "source": [
    "os.getcwd()"
   ]
  },
  {
   "cell_type": "code",
   "execution_count": 187,
   "metadata": {},
   "outputs": [],
   "source": [
    "os.chdir('C:\\\\Users\\\\shahdab\\\\Desktop\\\\data')"
   ]
  },
  {
   "cell_type": "code",
   "execution_count": null,
   "metadata": {},
   "outputs": [],
   "source": []
  },
  {
   "cell_type": "code",
   "execution_count": null,
   "metadata": {},
   "outputs": [],
   "source": []
  },
  {
   "cell_type": "code",
   "execution_count": null,
   "metadata": {},
   "outputs": [],
   "source": []
  },
  {
   "cell_type": "markdown",
   "metadata": {},
   "source": [
    "#### Spliting the folder into train test and validation "
   ]
  },
  {
   "cell_type": "code",
   "execution_count": 96,
   "metadata": {},
   "outputs": [
    {
     "name": "stderr",
     "output_type": "stream",
     "text": [
      "\n",
      "Copying files: 0 files [00:00, ? files/s]\u001b[A\n",
      "Copying files: 15 files [00:00, 148.52 files/s]\u001b[A\n",
      "Copying files: 54 files [00:00, 288.30 files/s]\u001b[A\n",
      "Copying files: 117 files [00:00, 443.48 files/s]\u001b[A\n",
      "Copying files: 174 files [00:00, 493.26 files/s]\u001b[A\n",
      "Copying files: 233 files [00:00, 526.18 files/s]\u001b[A\n",
      "Copying files: 292 files [00:00, 538.67 files/s]\u001b[A\n",
      "Copying files: 361 files [00:00, 583.70 files/s]\u001b[A\n",
      "Copying files: 423 files [00:00, 595.10 files/s]\u001b[A\n",
      "Copying files: 487 files [00:00, 607.12 files/s]\u001b[A\n",
      "Copying files: 552 files [00:01, 618.35 files/s]\u001b[A\n",
      "Copying files: 614 files [00:01, 556.36 files/s]\u001b[A\n",
      "Copying files: 671 files [00:01, 550.92 files/s]\u001b[A\n",
      "Copying files: 727 files [00:01, 539.75 files/s]\u001b[A\n",
      "Copying files: 782 files [00:01, 405.25 files/s]\u001b[A\n",
      "Copying files: 828 files [00:01, 288.37 files/s]\u001b[A\n",
      "Copying files: 865 files [00:02, 194.53 files/s]\u001b[A\n",
      "Copying files: 933 files [00:02, 264.74 files/s]\u001b[A\n",
      "Copying files: 985 files [00:02, 308.59 files/s]\u001b[A\n",
      "Copying files: 1029 files [00:02, 270.74 files/s]\u001b[A\n",
      "Copying files: 1094 files [00:02, 340.50 files/s]\u001b[A\n",
      "Copying files: 1170 files [00:02, 428.28 files/s]\u001b[A\n",
      "Copying files: 1227 files [00:03, 455.66 files/s]\u001b[A\n",
      "Copying files: 1296 files [00:03, 513.14 files/s]\u001b[A\n",
      "Copying files: 1358 files [00:03, 539.47 files/s]\u001b[A\n",
      "Copying files: 1418 files [00:03, 546.95 files/s]\u001b[A\n",
      "Copying files: 1485 files [00:03, 580.80 files/s]\u001b[A\n",
      "Copying files: 1553 files [00:03, 608.78 files/s]\u001b[A\n",
      "Copying files: 1617 files [00:03, 454.54 files/s]\u001b[A\n",
      "Copying files: 1670 files [00:03, 468.78 files/s]\u001b[A\n",
      "Copying files: 1729 files [00:03, 497.56 files/s]\u001b[A\n",
      "Copying files: 1784 files [00:04, 500.79 files/s]\u001b[A\n",
      "Copying files: 1840 files [00:04, 515.24 files/s]\u001b[A\n",
      "Copying files: 1894 files [00:04, 513.57 files/s]\u001b[A\n",
      "Copying files: 1951 files [00:04, 526.39 files/s]\u001b[A\n",
      "Copying files: 2005 files [00:04, 514.19 files/s]\u001b[A\n",
      "Copying files: 2058 files [00:04, 475.67 files/s]\u001b[A\n",
      "Copying files: 2114 files [00:04, 498.44 files/s]\u001b[A\n",
      "Copying files: 2173 files [00:04, 522.48 files/s]\u001b[A\n",
      "Copying files: 2227 files [00:04, 504.53 files/s]\u001b[A\n",
      "Copying files: 2283 files [00:05, 520.04 files/s]\u001b[A\n",
      "Copying files: 2336 files [00:05, 416.02 files/s]\u001b[A\n",
      "Copying files: 2445 files [00:05, 452.61 files/s]\u001b[A\n",
      "\n",
      "Copying files: 0 files [00:00, ? files/s]\u001b[A\n",
      "Copying files: 52 files [00:00, 514.85 files/s]\u001b[A\n",
      "Copying files: 111 files [00:00, 558.88 files/s]\u001b[A\n",
      "Copying files: 167 files [00:00, 506.33 files/s]\u001b[A\n",
      "Copying files: 219 files [00:00, 491.36 files/s]\u001b[A\n",
      "Copying files: 269 files [00:00, 350.15 files/s]\u001b[A\n",
      "Copying files: 320 files [00:00, 389.83 files/s]\u001b[A\n",
      "Copying files: 365 files [00:00, 384.37 files/s]\u001b[A\n",
      "Copying files: 407 files [00:01, 365.72 files/s]\u001b[A\n",
      "Copying files: 470 files [00:01, 434.42 files/s]\u001b[A\n",
      "Copying files: 537 files [00:01, 496.86 files/s]\u001b[A\n",
      "Copying files: 598 files [00:01, 528.35 files/s]\u001b[A\n",
      "Copying files: 659 files [00:01, 548.47 files/s]\u001b[A\n",
      "Copying files: 716 files [00:01, 499.98 files/s]\u001b[A\n",
      "Copying files: 775 files [00:01, 524.32 files/s]\u001b[A\n",
      "Copying files: 834 files [00:01, 541.12 files/s]\u001b[A\n",
      "Copying files: 890 files [00:01, 465.75 files/s]\u001b[A\n",
      "Copying files: 940 files [00:02, 460.35 files/s]\u001b[A\n",
      "Copying files: 989 files [00:02, 466.91 files/s]\u001b[A\n",
      "Copying files: 1038 files [00:02, 428.82 files/s]\u001b[A\n",
      "Copying files: 1089 files [00:02, 449.98 files/s]\u001b[A\n",
      "Copying files: 1144 files [00:02, 475.83 files/s]\u001b[A\n",
      "Copying files: 1205 files [00:02, 511.81 files/s]\u001b[A\n",
      "Copying files: 1284 files [00:02, 467.07 files/s]\u001b[A\n",
      "\n",
      "Copying files: 0 files [00:00, ? files/s]\u001b[A\n",
      "Copying files: 39 files [00:00, 382.35 files/s]\u001b[A\n",
      "Copying files: 98 files [00:00, 503.50 files/s]\u001b[A\n",
      "Copying files: 163 files [00:00, 570.09 files/s]\u001b[A\n",
      "Copying files: 223 files [00:00, 577.33 files/s]\u001b[A\n",
      "Copying files: 281 files [00:00, 499.55 files/s]\u001b[A\n",
      "Copying files: 333 files [00:00, 438.60 files/s]\u001b[A\n",
      "Copying files: 379 files [00:00, 428.00 files/s]\u001b[A\n",
      "Copying files: 438 files [00:00, 472.49 files/s]\u001b[A\n",
      "Copying files: 497 files [00:01, 505.59 files/s]\u001b[A\n",
      "Copying files: 549 files [00:01, 491.40 files/s]\u001b[A\n",
      "Copying files: 605 files [00:01, 507.95 files/s]\u001b[A\n",
      "Copying files: 657 files [00:01, 477.18 files/s]\u001b[A\n",
      "Copying files: 715 files [00:01, 494.68 files/s]\u001b[A\n",
      "Copying files: 766 files [00:01, 484.10 files/s]\u001b[A\n",
      "Copying files: 829 files [00:01, 523.32 files/s]\u001b[A\n",
      "Copying files: 884 files [00:01, 485.37 files/s]\u001b[A\n",
      "Copying files: 934 files [00:01, 466.59 files/s]\u001b[A\n",
      "Copying files: 989 files [00:02, 487.75 files/s]\u001b[A\n",
      "Copying files: 1044 files [00:02, 505.02 files/s]\u001b[A\n",
      "Copying files: 1100 files [00:02, 519.15 files/s]\u001b[A\n",
      "Copying files: 1159 files [00:02, 539.55 files/s]\u001b[A\n",
      "Copying files: 1229 files [00:02, 495.76 files/s]\u001b[A\n",
      "\n",
      "Copying files: 0 files [00:00, ? files/s]\u001b[A\n",
      "Copying files: 56 files [00:00, 554.48 files/s]\u001b[A\n",
      "Copying files: 118 files [00:00, 592.85 files/s]\u001b[A\n",
      "Copying files: 178 files [00:00, 546.33 files/s]\u001b[A\n",
      "Copying files: 234 files [00:00, 262.18 files/s]\u001b[A\n",
      "Copying files: 282 files [00:00, 306.26 files/s]\u001b[A\n",
      "Copying files: 339 files [00:00, 365.42 files/s]\u001b[A\n",
      "Copying files: 391 files [00:01, 402.93 files/s]\u001b[A\n",
      "Copying files: 440 files [00:01, 417.82 files/s]\u001b[A\n",
      "Copying files: 488 files [00:01, 434.32 files/s]\u001b[A\n",
      "Copying files: 536 files [00:01, 346.78 files/s]\u001b[A\n",
      "Copying files: 577 files [00:01, 343.88 files/s]\u001b[A\n",
      "Copying files: 635 files [00:01, 372.59 files/s]\u001b[A\n",
      "\n",
      "Copying files: 0 files [00:00, ? files/s]\u001b[A\n",
      "Copying files: 47 files [00:00, 465.35 files/s]\u001b[A\n",
      "Copying files: 94 files [00:00, 408.28 files/s]\u001b[A\n",
      "Copying files: 136 files [00:00, 399.73 files/s]\u001b[A\n",
      "Copying files: 198 files [00:00, 479.10 files/s]\u001b[A\n",
      "Copying files: 274 files [00:00, 481.55 files/s]\u001b[A\n",
      "\n",
      "Copying files: 0 files [00:00, ? files/s]\u001b[A\n",
      "Copying files: 51 files [00:00, 504.95 files/s]\u001b[A\n",
      "Copying files: 109 files [00:00, 548.91 files/s]\u001b[A\n",
      "Copying files: 164 files [00:00, 475.72 files/s]\u001b[A\n",
      "Copying files: 235 files [00:00, 560.16 files/s]\u001b[A\n",
      "Copying files: 304 files [00:00, 602.24 files/s]\u001b[A\n",
      "Copying files: 366 files [00:00, 547.35 files/s]\u001b[A\n",
      "Copying files: 423 files [00:00, 533.55 files/s]\u001b[A\n",
      "Copying files: 478 files [00:00, 456.42 files/s]\u001b[A\n",
      "Copying files: 526 files [00:01, 310.90 files/s]\u001b[A\n",
      "Copying files: 566 files [00:01, 326.71 files/s]\u001b[A\n",
      "Copying files: 617 files [00:01, 367.15 files/s]\u001b[A\n",
      "Copying files: 667 files [00:01, 397.08 files/s]\u001b[A\n",
      "Copying files: 726 files [00:01, 429.03 files/s]\u001b[A\n",
      "\n",
      "Copying files: 0 files [00:00, ? files/s]\u001b[A\n",
      "Copying files: 39 files [00:00, 386.15 files/s]\u001b[A\n",
      "Copying files: 100 files [00:00, 517.28 files/s]\u001b[A\n",
      "Copying files: 155 files [00:00, 529.78 files/s]\u001b[A\n",
      "Copying files: 216 files [00:00, 561.32 files/s]\u001b[A\n",
      "Copying files: 326 files [00:00, 522.44 files/s]\u001b[A\n",
      "\n",
      "Copying files: 0 files [00:00, ? files/s]\u001b[A\n",
      "Copying files: 54 files [00:00, 534.66 files/s]\u001b[A\n",
      "Copying files: 112 files [00:00, 557.96 files/s]\u001b[A\n",
      "Copying files: 168 files [00:00, 518.83 files/s]\u001b[A\n",
      "Copying files: 224 files [00:00, 532.30 files/s]\u001b[A\n",
      "Copying files: 331 files [00:00, 385.54 files/s]\u001b[A\n",
      "\n",
      "Copying files: 0 files [00:00, ? files/s]\u001b[A\n",
      "Copying files: 61 files [00:00, 603.97 files/s]\u001b[A\n",
      "Copying files: 122 files [00:00, 555.44 files/s]\u001b[A\n",
      "Copying files: 178 files [00:00, 529.86 files/s]\u001b[A\n",
      "Copying files: 262 files [00:00, 532.52 files/s]\u001b[A\n",
      "\n",
      "Copying files: 0 files [00:00, ? files/s]\u001b[A\n",
      "Copying files: 55 files [00:00, 544.56 files/s]\u001b[A\n",
      "Copying files: 110 files [00:00, 498.14 files/s]\u001b[A\n",
      "Copying files: 161 files [00:00, 492.62 files/s]\u001b[A\n",
      "Copying files: 225 files [00:00, 512.53 files/s]\u001b[A\n",
      "\n",
      "Copying files: 0 files [00:00, ? files/s]\u001b[A\n",
      "Copying files: 54 files [00:00, 534.67 files/s]\u001b[A\n",
      "Copying files: 108 files [00:00, 508.02 files/s]\u001b[A\n",
      "Copying files: 159 files [00:00, 456.49 files/s]\u001b[A\n",
      "Copying files: 206 files [00:00, 319.41 files/s]\u001b[A\n",
      "Copying files: 294 files [00:00, 401.09 files/s]\u001b[A\n",
      "\n",
      "Copying files: 0 files [00:00, ? files/s]\u001b[A\n",
      "Copying files: 60 files [00:00, 588.24 files/s]\u001b[A\n",
      "Copying files: 119 files [00:00, 579.13 files/s]\u001b[A\n",
      "Copying files: 177 files [00:00, 520.89 files/s]\u001b[A\n",
      "Copying files: 278 files [00:00, 452.59 files/s]\u001b[A\n",
      "\n",
      "Copying files: 0 files [00:00, ? files/s]\u001b[A\n",
      "Copying files: 50 files [00:00, 495.04 files/s]\u001b[A\n",
      "Copying files: 100 files [00:00, 448.07 files/s]\u001b[A\n",
      "Copying files: 146 files [00:00, 439.97 files/s]\u001b[A\n",
      "Copying files: 239 files [00:00, 470.47 files/s]\u001b[A\n",
      "\n",
      "Copying files: 0 files [00:00, ? files/s]\u001b[A\n",
      "Copying files: 65 files [00:00, 643.58 files/s]\u001b[A\n",
      "Copying files: 136 files [00:00, 641.51 files/s]\u001b[A\n",
      "\n",
      "Copying files: 0 files [00:00, ? files/s]\u001b[A\n",
      "Copying files: 113 files [00:00, 540.68 files/s][A\n",
      "\n",
      "Copying files: 0 files [00:00, ? files/s]\u001b[A\n",
      "Copying files: 16 files [00:00, 51.42 files/s]\u001b[A\n",
      "Copying files: 22 files [00:00, 48.75 files/s]\u001b[A\n",
      "Copying files: 97 files [00:00, 156.91 files/s]\u001b[A\n",
      "\n",
      "Copying files: 0 files [00:00, ? files/s]\u001b[A\n",
      "Copying files: 97 files [00:00, 541.91 files/s]\u001b[A\n"
     ]
    }
   ],
   "source": [
    "for i in range(1,18):\n",
    "    splitfolders.ratio('{}/{} each augmented'.format(i,i),\n",
    "                       output='subset{}'.format(i),\n",
    "                       seed=142,ratio=(.8,.2,.0))"
   ]
  },
  {
   "cell_type": "code",
   "execution_count": null,
   "metadata": {},
   "outputs": [],
   "source": []
  },
  {
   "cell_type": "code",
   "execution_count": 63,
   "metadata": {},
   "outputs": [],
   "source": [
    "import os\n",
    "\n",
    "def fs_tree_to_dict(path_):\n",
    "    file_token = ''\n",
    "    for root, dirs, files in os.walk(path_):\n",
    "        tree = {d: fs_tree_to_dict(os.path.join(root, d)) for d in dirs}\n",
    "        tree.update({f: file_token for f in files})\n",
    "        return tree  # note we discontinue iteration trough os.walk"
   ]
  },
  {
   "cell_type": "code",
   "execution_count": 1,
   "metadata": {},
   "outputs": [],
   "source": [
    "from tensorflow import keras"
   ]
  },
  {
   "cell_type": "code",
   "execution_count": null,
   "metadata": {},
   "outputs": [],
   "source": []
  }
 ],
 "metadata": {
  "kernelspec": {
   "display_name": "Python 3",
   "language": "python",
   "name": "python3"
  },
  "language_info": {
   "codemirror_mode": {
    "name": "ipython",
    "version": 3
   },
   "file_extension": ".py",
   "mimetype": "text/x-python",
   "name": "python",
   "nbconvert_exporter": "python",
   "pygments_lexer": "ipython3",
   "version": "3.7.9"
  }
 },
 "nbformat": 4,
 "nbformat_minor": 4
}
